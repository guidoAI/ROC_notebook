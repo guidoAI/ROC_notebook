{
 "cells": [
  {
   "cell_type": "markdown",
   "metadata": {},
   "source": [
    "## Receiver operating characteristic curves\n",
    "\n",
    "Suppose that we have a binary classification task, in which we have to map a 'sample' $\\mathbf{x}$ to a class $y \\in \\{ 0, 1\\}$. We may use a machine learning method to learn a function $\\hat{y} = h(\\mathbf{x})$. \n",
    "\n",
    "How can we determine how good a binary classifier is at its task? \n",
    "\n",
    "One way in which one could do this is to simply take the percentage of times that the classifier is correct. Problem: _skewed_ \n",
    "\n",
    "In order to deal with this, ... FP TP\n",
    "But, how can we compare it with another classifier? \n",
    "\n",
    "Often, $h(\\mathbf{x})$ will not be a binary function itself. For instance, if $h$ is a neural network with a sigmoid activation function \n",
    "\n",
    "\n"
   ]
  },
  {
   "cell_type": "code",
   "execution_count": null,
   "metadata": {},
   "outputs": [],
   "source": []
  },
  {
   "cell_type": "markdown",
   "metadata": {},
   "source": [
    "## References\n",
    "\n",
    "[1] Fawcett, T. (2006). An introduction to ROC analysis. Pattern recognition letters, 27(8), 861-874. – Sections 1-5 are relevant to the course."
   ]
  },
  {
   "cell_type": "code",
   "execution_count": null,
   "metadata": {},
   "outputs": [],
   "source": []
  }
 ],
 "metadata": {
  "kernelspec": {
   "display_name": "Python 3",
   "language": "python",
   "name": "python3"
  },
  "language_info": {
   "codemirror_mode": {
    "name": "ipython",
    "version": 3
   },
   "file_extension": ".py",
   "mimetype": "text/x-python",
   "name": "python",
   "nbconvert_exporter": "python",
   "pygments_lexer": "ipython3",
   "version": "3.6.7"
  }
 },
 "nbformat": 4,
 "nbformat_minor": 2
}
